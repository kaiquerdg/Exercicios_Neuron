{
  "nbformat": 4,
  "nbformat_minor": 0,
  "metadata": {
    "colab": {
      "provenance": []
    },
    "kernelspec": {
      "name": "python3",
      "display_name": "Python 3"
    },
    "language_info": {
      "name": "python"
    }
  },
  "cells": [
    {
      "cell_type": "markdown",
      "source": [
        "# Exercícios - Parte 2\n"
      ],
      "metadata": {
        "id": "0zwuiGKW_eV2"
      }
    },
    {
      "cell_type": "markdown",
      "source": [
        "01) Desenvolva um programa que leia dez valores pelo teclado e guarde-os\n",
        "em uma tupla. No final, mostre:\n",
        "a) Quantas vezes apareceu o valor 4.\n",
        "b) Em que posição foi digitado o primeiro valor 1.\n",
        "c) Quais foram os números pares."
      ],
      "metadata": {
        "id": "R56Y52qV_jud"
      }
    },
    {
      "cell_type": "code",
      "source": [
        "n = (int(input('Digite um valor:')),\n",
        "     int(input('Digite outro valor:')),\n",
        "     int(input('Digite mais um valor:')),\n",
        "     int(input('Digite mais um valor:')),\n",
        "     int(input('Digite mais um valor:')),\n",
        "     int(input('Digite mais um valor:')),\n",
        "     int(input('Digite mais um valor:')),\n",
        "     int(input('Digite mais um valor:')),\n",
        "     int(input('Digite mais um valor:')),\n",
        "     int(input('Digite o último valor:')))\n",
        "\n",
        "contador = n.count(4)\n",
        "\n",
        "pares = []\n",
        "impares = []\n",
        "for i in n:\n",
        "  if n[i] % 2 == 0:\n",
        "    pares.append(n[i])\n",
        "  else:\n",
        "    impares.append(n[i])\n",
        "\n",
        "print(\"O número 4 apareceu\", contador, \"vezes\")\n",
        "\n",
        "if 1 not in n:\n",
        "  print('Não há 1 na sequência')\n",
        "else:\n",
        "  print(f'O primeiro 1 aparece na posição {n.index(1)+1}')\n",
        "\n",
        "print(\"Os números pares são\", pares, \"e os ímpares são\", impares)"
      ],
      "metadata": {
        "id": "OCCeyKf9_ovO"
      },
      "execution_count": null,
      "outputs": []
    },
    {
      "cell_type": "markdown",
      "source": [
        "02) Crie um programa onde o usuário possa digitar vários valores\n",
        "numéricos e cadastre-os em uma lista (pergunte se o usuário quer\n",
        "continuar digitando ou não). Caso o número já esteja lá dentro, ele não\n",
        "será adicionado. No final, serão exibidos todos os valores únicos digitados,\n",
        "em ordem crescente.\n"
      ],
      "metadata": {
        "id": "JdEZWAzX_kHy"
      }
    },
    {
      "cell_type": "code",
      "source": [
        "numeros = []\n",
        "while True:\n",
        "    n = int(input('Digite um número: '))\n",
        "    if n not in numeros:\n",
        "        numeros.append(n)\n",
        "    else:\n",
        "        print('Número já adicionado anteriormente')\n",
        "\n",
        "    resp = ' '\n",
        "    while resp not in 'simnão':\n",
        "        resp = str(input('Quer continuar? [sim/não]'))\n",
        "    if resp == 'não':\n",
        "        break\n",
        "\n",
        "numeros.sort()\n",
        "print(\"Você digitou os valores: \", numeros)"
      ],
      "metadata": {
        "id": "7L16kb2L_smn"
      },
      "execution_count": null,
      "outputs": []
    },
    {
      "cell_type": "markdown",
      "source": [
        "03) Crie um programa que vai ler vários números e colocar em uma lista.\n",
        "Depois disso, crie duas listas extras que vão conter apenas os valores pares\n",
        "e os valores ímpares digitados, respectivamente. Ao final, mostre o\n",
        "conteúdo das três listas geradas."
      ],
      "metadata": {
        "id": "oP4iKn-__kUS"
      }
    },
    {
      "cell_type": "code",
      "source": [
        "n = [int(input('Digite um valor:')),\n",
        "     int(input('Digite outro valor:')),\n",
        "     int(input('Digite mais um valor:')),\n",
        "     int(input('Digite mais um valor:')),\n",
        "     int(input('Digite mais um valor:')),\n",
        "     int(input('Digite mais um valor:')),\n",
        "     int(input('Digite mais um valor:')),\n",
        "     int(input('Digite mais um valor:')),\n",
        "     int(input('Digite mais um valor:')),\n",
        "     int(input('Digite o último valor:'))]\n",
        "\n",
        "pares = []\n",
        "impares = []\n",
        "for i in n:\n",
        "  if n[i] % 2 == 0:\n",
        "    pares.append(n[i])\n",
        "  else:\n",
        "    impares.append(n[i])\n",
        "\n",
        "print(\"Minha lista é\", n)\n",
        "print(\"Os números pares são\", pares)\n",
        "print(\"Os ímpares são\", impares)"
      ],
      "metadata": {
        "id": "-4WVYiXC_u0v"
      },
      "execution_count": null,
      "outputs": []
    },
    {
      "cell_type": "markdown",
      "source": [
        "04) Escreva uma função que recebe uma lista de palavras como parâmetro\n",
        "e retorna uma lista contendo apenas as palavras que são palíndromos (ou\n",
        "seja, lidas da mesma forma tanto da esquerda para a direita como da\n",
        "direita para a esquerda. Ex: arara, osso, radar, ana…).\n"
      ],
      "metadata": {
        "id": "jlhcQ2a9_keR"
      }
    },
    {
      "cell_type": "code",
      "source": [
        "def palindromo(lista):\n",
        "  lista_palindromos = []\n",
        "  for i in range(len(lista)):\n",
        "    c = lista[i]\n",
        "    c_aux = ''.join(reversed(c))\n",
        "    if c == c_aux:\n",
        "      lista_palindromos.append(c)\n",
        "    else:\n",
        "      pass\n",
        "  return print(lista_palindromos)\n",
        "\n",
        "lista = [\"rato\", \"radar\", \"couve\", \"osso\"]\n",
        "\n",
        "palindromo(lista)"
      ],
      "metadata": {
        "id": "bpDAcpuf_y_9"
      },
      "execution_count": null,
      "outputs": []
    },
    {
      "cell_type": "markdown",
      "source": [
        "05) Faça um programa que leia nome e média de um aluno, guardando-as\n",
        "em um dicionário. Crie mais uma chave no dicionário com a situação do\n",
        "aluno - aprovado, recuperação ou reprovado (use as médias da USP). No\n",
        "final, mostre o conteúdo da estrutura na tela (nome = joão; média = 5;\n",
        "situação = aprovado)."
      ],
      "metadata": {
        "id": "TNjHFwRE_kll"
      }
    },
    {
      "cell_type": "code",
      "source": [
        "dados = dict()\n",
        "dados = {'nome':'Ronaldinho', 'media':6.8}\n",
        "\n",
        "if dados['media'] < 3:\n",
        "  dados['situacao'] = 'Reprovado'\n",
        "elif 3 <= dados['media'] < 5:\n",
        "  dados['situacao'] = 'Recuperação'\n",
        "if dados['media'] >= 5:\n",
        "  dados['situacao'] = 'Aprovado'\n",
        "\n",
        "print(dados)"
      ],
      "metadata": {
        "id": "Y5LwgBYG_2bm"
      },
      "execution_count": null,
      "outputs": []
    },
    {
      "cell_type": "markdown",
      "source": [
        "06) Crie um programa que leia nome, sexo e idade de várias pessoas,\n",
        "guardando os dados de cada pessoa em um dicionário e todos os\n",
        "dicionários em uma lista. No final, mostre:\n",
        "A) Quantas pessoas foram cadastradas\n",
        "B) A média de idade\n",
        "C) Uma lista de pessoas com idade acima da média"
      ],
      "metadata": {
        "id": "Stq4cBC5_kvo"
      }
    },
    {
      "cell_type": "code",
      "source": [
        "lista_pessoas = list()\n",
        "pessoas = dict()\n",
        "\n",
        "while True:\n",
        "    pessoas.clear()\n",
        "    pessoas['nome'] = str(input('Nome: '))\n",
        "    pessoas['sexo'] = str(input('Sexo: '))\n",
        "    pessoas['idade'] = int(input('Idade: '))\n",
        "\n",
        "    lista_pessoas.append(pessoas.copy())\n",
        "\n",
        "    sair = str(input(\"Quer continuar? [sim/não] :\"))\n",
        "    if sair == 'não':\n",
        "        break\n",
        "\n",
        "print(\"Foram cadastradas\", len(lista_pessoas), \"pessoas.\")\n",
        "\n",
        "soma = 0\n",
        "for i in range(len(lista_pessoas)):\n",
        "  soma_aux = lista_pessoas[i]['idade']\n",
        "  soma = soma + soma_aux\n",
        "\n",
        "media = soma / len(lista_pessoas)\n",
        "\n",
        "print(\"A média das idades é de\", round(media, 2), \"anos.\")\n",
        "\n",
        "velhos = []\n",
        "for i in range(len(lista_pessoas)):\n",
        "  if lista_pessoas[i]['idade'] > media:\n",
        "    velhos.append(lista_pessoas[i]['nome'])\n",
        "  else:\n",
        "    pass\n",
        "\n",
        "print(\"As pessoas acima da média são\", velhos)"
      ],
      "metadata": {
        "id": "BxE33Bu5_4OI"
      },
      "execution_count": null,
      "outputs": []
    },
    {
      "cell_type": "markdown",
      "source": [
        "07) Faça um programa que tenha uma função chamada contador(), que\n",
        "receba três parâmetros: início, fim e passo. Seu programa tem que realizar\n",
        "três contagens através da função criada:\n",
        "a) de 1 até 10, de 1 em 1\n",
        "b) de 10 até 0, de 2 em 2\n",
        "c) uma contagem personalizada\n"
      ],
      "metadata": {
        "id": "YthvKiuQ_k3c"
      }
    },
    {
      "cell_type": "code",
      "source": [
        "def contador(x, y, z):\n",
        "  print(f'Contagem de {x} até {y} de {z} em {z}:')\n",
        "\n",
        "  if x < y:\n",
        "    cont = x\n",
        "    while cont <= y:\n",
        "      print(f'{cont} ', end = '')\n",
        "      cont = cont + z\n",
        "    print(\"Fim\")\n",
        "  else:\n",
        "    cont = x\n",
        "    while cont >= y:\n",
        "      print(f'{cont} ', end = '')\n",
        "      cont = cont - z\n",
        "    print(\"Fim\")\n",
        "\n",
        "contador(1, 10, 1)\n",
        "contador(10, 0, 2)\n",
        "print('Contagem personalizada')\n",
        "x = int(input('Início: '))\n",
        "y = int(input('Fim: '))\n",
        "z = int(input('Passo: '))\n",
        "\n",
        "contador(x, y, z)"
      ],
      "metadata": {
        "id": "b60z5pBl_6Ns"
      },
      "execution_count": null,
      "outputs": []
    },
    {
      "cell_type": "markdown",
      "source": [
        "08) Faça um programa que tenha uma função notas() que pode receber\n",
        "várias notas de alunos e vai retornar um dicionário com as seguintes\n",
        "informações:\n",
        "- Quantidade de notas\n",
        "- A maior nota\n",
        "- A menor nota\n",
        "- A média da turma"
      ],
      "metadata": {
        "id": "Y8tiqkkm_k9_"
      }
    },
    {
      "cell_type": "code",
      "source": [
        "notas = (5, 3.2, 7, 9, 6.7, 2.5, 1.3, 7.9, 9.5, 4, 2)\n",
        "\n",
        "def dicionario(*notas):\n",
        "  dicionario = dict(quantidade = len(notas), maior = max(notas), menor = min(notas), media = round((sum(notas)) / len(notas), 2))\n",
        "  return dicionario\n",
        "\n",
        "info = dicionario(5, 3.2, 7, 9, 6.7, 2.5, 1.3, 7.9, 9.5, 4, 2)\n",
        "print(info)"
      ],
      "metadata": {
        "id": "5NILdYA5_8AN"
      },
      "execution_count": null,
      "outputs": []
    }
  ]
}