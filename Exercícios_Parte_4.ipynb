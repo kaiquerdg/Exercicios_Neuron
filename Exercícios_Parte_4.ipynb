{
  "nbformat": 4,
  "nbformat_minor": 0,
  "metadata": {
    "colab": {
      "provenance": []
    },
    "kernelspec": {
      "name": "python3",
      "display_name": "Python 3"
    },
    "language_info": {
      "name": "python"
    }
  },
  "cells": [
    {
      "cell_type": "markdown",
      "source": [
        "#Exercícios - Parte 4"
      ],
      "metadata": {
        "id": "qZNgqo8etler"
      }
    },
    {
      "cell_type": "markdown",
      "source": [
        "01) Crie um programa em que pergunte o nome e a idade do usuário e retorne:\n",
        "‘’Meu nome é {nome digitado} e eu tenho {idade digitada} anos!’’"
      ],
      "metadata": {
        "id": "yP2SE1grtpMU"
      }
    },
    {
      "cell_type": "code",
      "source": [
        "n = str(input(\"Digite seu nome:\"))\n",
        "i = int(input(\"Digite sua idade:\"))\n",
        "\n",
        "print(\"Meu nome é\", n, \"e eu tenho\", i, \"anos!\")"
      ],
      "metadata": {
        "id": "X4F0TyGutryU",
        "colab": {
          "base_uri": "https://localhost:8080/"
        },
        "outputId": "2f1fad7a-fa14-40e7-c233-e64c3c2f9469"
      },
      "execution_count": null,
      "outputs": [
        {
          "output_type": "stream",
          "name": "stdout",
          "text": [
            "Digite seu nome:sam\n",
            "Digite sua idade:5\n",
            "Meu nome é sam e eu tenho 5 anos!\n"
          ]
        }
      ]
    },
    {
      "cell_type": "markdown",
      "source": [
        "02) Crie um programa em que pergunte dois números e de: a soma, a diferença,\n",
        "a divisão, a divisão inteira e o resto entre eles. (Criar dois formatos de resposta,\n",
        "primeiro em uma frase continua - ‘’a soma é…, a divisão é… - e também um\n",
        "abaixo do outro - soma:... divisão:...-)"
      ],
      "metadata": {
        "id": "7J-CNGUKuN70"
      }
    },
    {
      "cell_type": "code",
      "source": [
        "x = float(input(\"Digite o primeiro número:\"))\n",
        "y = float(input(\"Digite o segundo número:\"))\n",
        "\n",
        "s = x + y\n",
        "dif = x - y\n",
        "div = x / y\n",
        "inteira = x//y\n",
        "resto = x%y\n",
        "\n",
        "print(\"A soma é:\", s, \"a diferença é:\", dif, \"a divisão é:\", div, \"a divisão inteira é:\", inteira, \"O resto é:\", resto)\n",
        "print(\"A soma é:\", s, \"\\na diferença é:\", dif, \"\\na divisão é:\", div, \"\\na divisão inteira é:\", inteira, \"\\nO resto é:\", resto)"
      ],
      "metadata": {
        "id": "PIkcM4h_uggs"
      },
      "execution_count": null,
      "outputs": []
    },
    {
      "cell_type": "markdown",
      "source": [
        "03) Crie um programa que dê o sucessor e o antecessor de um número"
      ],
      "metadata": {
        "id": "lQKp9SGMuPlc"
      }
    },
    {
      "cell_type": "code",
      "source": [
        "n = int(input(\"Digite um número inteiro\"))\n",
        "\n",
        "print(\"O antecessor é\", n - 1, \"e o sucessor é\", n + 1)"
      ],
      "metadata": {
        "id": "t9VZwjBBuzK7"
      },
      "execution_count": null,
      "outputs": []
    },
    {
      "cell_type": "markdown",
      "source": [
        "04) Crie um programa em que pergunte um número e de: a raiz quadrada, o\n",
        "valor elevado ao quadrado, o triplo e o fatorial desse número. Dê a resposta no\n",
        "modo que preferir!"
      ],
      "metadata": {
        "id": "XEweG16-uSCM"
      }
    },
    {
      "cell_type": "code",
      "source": [
        "from math import sqrt\n",
        "\n",
        "x = int(input(\"Digite um número inteiro:\"))\n",
        "\n",
        "r = sqrt(x)\n",
        "q = x ** 2\n",
        "t = x * 3\n",
        "f = 1\n",
        "\n",
        "while x > 1:\n",
        "    f = f * x\n",
        "    x = x - 1\n",
        "\n",
        "print(\"Raíz:\", r)\n",
        "print(\"Quadrado:\", q)\n",
        "print(\"Triplo:\", t)\n",
        "print(\"fatorial:\", f)"
      ],
      "metadata": {
        "id": "EK21COgJvVMg"
      },
      "execution_count": null,
      "outputs": []
    },
    {
      "cell_type": "markdown",
      "source": [
        "05) Crie um programa em que você digita duas notas de um aluno e obtenha a\n",
        "média ponderada (peso da primeira nota: 2; peso da segunda nota: 1)"
      ],
      "metadata": {
        "id": "xAS51a6euUGs"
      }
    },
    {
      "cell_type": "code",
      "source": [
        "x = float(input(\"Digite a primeira nota:\"))\n",
        "y = float(input(\"Digite a segunda nota:\"))\n",
        "\n",
        "n = (2 * x + y) / 3\n",
        "\n",
        "print(\"A média ponderada é:\", n)"
      ],
      "metadata": {
        "id": "tlu60xXdxzoF"
      },
      "execution_count": null,
      "outputs": []
    },
    {
      "cell_type": "markdown",
      "source": [
        "06) Crie um conversor de moeda, em que a pessoa digite uma quantidade em\n",
        "reais e obtenha o equivalente em dólares (considere: U$1,00 = R\\$5,17)"
      ],
      "metadata": {
        "id": "gI5QZ60YuW60"
      }
    },
    {
      "cell_type": "code",
      "source": [
        "x = float(input(\"Digite seu dinheiro:\"))\n",
        "\n",
        "d = x / 5.17\n",
        "\n",
        "if d < 1000000:\n",
        "  print(\"Você tem apenas\", round(d, 2), \"dólares, seu POBRE!\")\n",
        "else:\n",
        "  print(\"Você tem\", round(d, 2), \"dólares, da um pouco pra mim!\")"
      ],
      "metadata": {
        "id": "BVLaF7vbyJsw"
      },
      "execution_count": null,
      "outputs": []
    },
    {
      "cell_type": "markdown",
      "source": [
        "07) Crie um programa que leia a largura e a altura de uma parede em metros.\n",
        "Calcule a quantidade de tinta necessária para pintá-la, sabendo que cada litro de\n",
        "tinta pinta uma área de 3m²."
      ],
      "metadata": {
        "id": "CAlTwk8puZHU"
      }
    },
    {
      "cell_type": "code",
      "source": [
        "x = float(input(\"Digite a largura:\"))\n",
        "y = float(input(\"Digite a altura:\"))\n",
        "\n",
        "a = x * y\n",
        "\n",
        "t = a / 3\n",
        "\n",
        "if (a%3) != 0:\n",
        "  print(\"São necessários\", int(t)+1, \"litros de tinta.\")\n",
        "else:\n",
        "  print(\"São necessários\", t, \"litros de tinta.\")"
      ],
      "metadata": {
        "id": "S4VX778Hy-z9"
      },
      "execution_count": null,
      "outputs": []
    },
    {
      "cell_type": "markdown",
      "source": [
        "08) Crie um programa que leia um número real qualquer e mostre na tela a sua\n",
        "porção inteira (lembre-se da conversão entre tipos de variáveis!)"
      ],
      "metadata": {
        "id": "xZl91Owzub-c"
      }
    },
    {
      "cell_type": "code",
      "source": [
        "x = float(input(\"Digite um número qualquer:\"))\n",
        "\n",
        "print(\"A parte inteira do número é:\", int(x))"
      ],
      "metadata": {
        "id": "3-ohIObfz6lL"
      },
      "execution_count": null,
      "outputs": []
    }
  ]
}