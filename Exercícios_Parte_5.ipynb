{
  "nbformat": 4,
  "nbformat_minor": 0,
  "metadata": {
    "colab": {
      "provenance": []
    },
    "kernelspec": {
      "name": "python3",
      "display_name": "Python 3"
    },
    "language_info": {
      "name": "python"
    }
  },
  "cells": [
    {
      "cell_type": "markdown",
      "source": [
        "#Exercícios - Parte 5"
      ],
      "metadata": {
        "id": "KEIbD1yevODc"
      }
    },
    {
      "cell_type": "markdown",
      "source": [
        "**1) Listas e Sequências**"
      ],
      "metadata": {
        "id": "N-ItXUnYVtuO"
      }
    },
    {
      "cell_type": "markdown",
      "source": [
        "a) Crie uma lista contendo nome, idade, altura e sexo para cada uma das\n",
        "seguintes pessoas(cada pessoa deve ter a sua própria lista):\n",
        "i) João, 27 anos, 1,89, masculino\n",
        "ii) Maria, 55 anos, 1,57, feminino\n",
        "iii) Bob, 42 anos, 1,70, masculino\n",
        "Utilizando indexação de lista crie uma lista com todas as idades, uma com\n",
        "todas as alturas e uma com todos os sexos. Calcule: a idade média, a maior\n",
        "e menor altura e o número de pessoas do sexo masculino"
      ],
      "metadata": {
        "id": "Pn3PTHCyVu3c"
      }
    },
    {
      "cell_type": "code",
      "source": [
        "l1 = [\"João\", 27, 1.89, \"Masculino\"]\n",
        "l2 = [\"Maria\", 55, 1.57, \"Feminino\"]\n",
        "l3 = [\"Bob\", 42, 1.70, \"Masculino\"]\n",
        "\n",
        "idades = [l1[1], l2[1], l3[1]]\n",
        "alturas = [l1[2], l2[2], l3[2]]\n",
        "sexo = [l1[3], l2[3], l3[3]]\n",
        "\n",
        "media = round((sum(idades) / len(idades)), 2)\n",
        "maior_altura = max(alturas)\n",
        "menor_altura = min(alturas)\n",
        "sexo_masculino = sexo.count(\"Masculino\")\n",
        "\n",
        "print(media, maior_altura, menor_altura, sexo_masculino)"
      ],
      "metadata": {
        "id": "katbLOUTMGnU"
      },
      "execution_count": null,
      "outputs": []
    },
    {
      "cell_type": "markdown",
      "source": [
        "b) Utilizando listas, faça um programa que faça 5 perguntas para uma pessoa\n",
        "sobre um crime. As perguntas são:\n",
        "i) \"Telefonou para a vítima?\"\n",
        "ii) \"Esteve no local do crime?\"\n",
        "iii) \"Mora perto da vítima?\"\n",
        "iv) \"Devia para a vítima?\"\n",
        "v) \"Já trabalhou com a vítima?\"\n",
        "O programa deve no final emitir uma classificação sobre a participação da\n",
        "pessoa no crime. Se a pessoa responder positivamente a 2 questões ela\n",
        "deve ser classificada como \"Suspeita\", entre 3 e 4 como \"Cúmplice\" e 5 como\n",
        "\"Assassino\". Caso contrário, ele será classificado como \"Inocente\".\n"
      ],
      "metadata": {
        "id": "EbpNAIbkVzvk"
      }
    },
    {
      "cell_type": "code",
      "source": [
        "i = str(input(\"Telefonou para a vítima? Responda com sim ou não. \"))\n",
        "ii = str(input(\"Esteve no local do crime? Responda com sim ou não. \"))\n",
        "iii = str(input(\"Mora perto da vítima? Responda com sim ou não. \"))\n",
        "iv = str(input(\"Devia para a vítima? Responda com sim ou não. \"))\n",
        "v = str(input(\"Já trabalhou com a vítima? Responda com sim ou não. \"))\n",
        "\n",
        "perguntas = [i, ii, iii, iv, v]\n",
        "\n",
        "conta_sim = perguntas.count(\"sim\")\n",
        "\n",
        "if conta_sim == 5:\n",
        "  print(\"Assassino\")\n",
        "elif conta_sim == 2:\n",
        "  print(\"Suspeito\")\n",
        "elif conta_sim < 2:\n",
        "  print(\"Inocente\")\n",
        "else:\n",
        "  print(\"Cúmplice\")"
      ],
      "metadata": {
        "id": "paNFbLVIOAZC"
      },
      "execution_count": null,
      "outputs": []
    },
    {
      "cell_type": "markdown",
      "source": [
        "**2) Estruturas de Decisão**"
      ],
      "metadata": {
        "id": "C0SIT4bkVw18"
      }
    },
    {
      "cell_type": "markdown",
      "source": [
        "a) Faça um programa para a leitura de duas notas parciais de um aluno. O\n",
        "programa deve calcular a média alcançada por aluno e apresentar:\n",
        "i) A mensagem \"Aprovado\", se a média alcançada for maior ou igual a\n",
        "sete;\n",
        "ii) A mensagem \"Reprovado\", se a média for menor do que sete;\n",
        "iii) A mensagem \"Aprovado com Distinção\", se a média for igual a dez."
      ],
      "metadata": {
        "id": "Oq-4PkaIV5gv"
      }
    },
    {
      "cell_type": "code",
      "source": [
        "n1 = float(input(\"Digite sua nota da p1: \"))\n",
        "n2 = float(input(\"Digite sua nota da p2: \"))\n",
        "\n",
        "media = (n1 + n2) / 2\n",
        "\n",
        "if media == 10:\n",
        "  print(\"Aprovado com Distinção\")\n",
        "elif media < 7:\n",
        "  print(\"Reprovado\")\n",
        "else:\n",
        "  print(\"Aprovado\")"
      ],
      "metadata": {
        "id": "uxcJ-uJ3PgSf"
      },
      "execution_count": null,
      "outputs": []
    },
    {
      "cell_type": "markdown",
      "source": [
        "b) Faça um Programa que leia três números e mostre-os em ordem\n",
        "decrescente.\n"
      ],
      "metadata": {
        "id": "PqD94Zn4V5rp"
      }
    },
    {
      "cell_type": "code",
      "source": [
        "n1 = float(input(\"Digite um número: \"))\n",
        "n2 = float(input(\"Digite um número: \"))\n",
        "n3 = float(input(\"Digite um número: \"))\n",
        "\n",
        "lista = [n1, n2, n3]\n",
        "lista.sort()\n",
        "lista.reverse()\n",
        "\n",
        "print(lista)"
      ],
      "metadata": {
        "id": "b_sdRtaLQBQG"
      },
      "execution_count": null,
      "outputs": []
    },
    {
      "cell_type": "markdown",
      "source": [
        "c) DESAFIO: Faça um programa que calcule as raízes de uma equação do\n",
        "segundo grau, na forma ax2 + bx + c. O programa deverá pedir os valores de\n",
        "a, b e c e fazer as consistências, informando ao usuário nas seguintes\n",
        "situações:\n",
        "i) Se o usuário informar o valor de A igual a zero, a equação não é do\n",
        "segundo grau e o programa não deve fazer pedir os demais valores,\n",
        "sendo encerrado;\n",
        "ii) Se o delta calculado for negativo, a equação não possui raizes reais.\n",
        "Informe ao usuário e encerre o programa;\n",
        "iii) Se o delta calculado for igual a zero a equação possui apenas uma\n",
        "raiz real; informe-a ao usuário;\n",
        "iv) Se o delta for positivo, a equação possui duas raiz reais; informe-as\n",
        "ao usuário;"
      ],
      "metadata": {
        "id": "qf6df7P3V5y4"
      }
    },
    {
      "cell_type": "code",
      "source": [
        "a = float(input(\"Digite o valor de a: \"))\n",
        "if a == 0:\n",
        "  print(\"A equação não é do segundo grau.\")\n",
        "else:\n",
        "  b = float(input(\"Digite o valor de b: \"))\n",
        "  c = float(input(\"Digite o valor de c: \"))\n",
        "\n",
        "  import math\n",
        "\n",
        "  delta = b ** 2 - 4 * a * c\n",
        "\n",
        "  if delta == 0:\n",
        "      x1 = (-b + math.sqrt(delta))/ (2*a)\n",
        "      print(\"A equação possui apenas uma raíz,\", round(x1,2))\n",
        "  else:\n",
        "      if delta < 0:\n",
        "          print(\"A equação não possui raízes reais\")\n",
        "      else:\n",
        "          x1 = (-b + math.sqrt(delta))/ (2*a)\n",
        "          x2 = (-b - math.sqrt(delta))/ (2*a)\n",
        "          print(\"A equação possui duas raízes reais,\", round(x1,2), \"e\", round(x2,2))\n"
      ],
      "metadata": {
        "id": "TQnbFH88WVgz"
      },
      "execution_count": null,
      "outputs": []
    },
    {
      "cell_type": "markdown",
      "source": [
        "**3) Estruturas de Repetição**\n"
      ],
      "metadata": {
        "id": "c4vwE1GgWBLv"
      }
    },
    {
      "cell_type": "markdown",
      "source": [
        "a) Faça um programa que peça uma nota, entre zero e dez. Mostre uma\n",
        "mensagem caso o valor seja inválido e continue pedindo até que o usuário\n",
        "informe um valor válido."
      ],
      "metadata": {
        "id": "jRE_Z5oGWDmT"
      }
    },
    {
      "cell_type": "code",
      "source": [
        "nota = float(input(\"Digite sua nota: \"))\n",
        "if nota >= 0 and nota <= 10:\n",
        "  print(\"Ótimo, sua nota é\", nota)\n",
        "else:\n",
        "  while nota < 0 or nota > 10:\n",
        "    print(\"Valor inválido. Digite novamente.\")\n",
        "    nota = float(input(\"Digite sua nota: \"))\n",
        "  print(\"Ótimo, sua nota é\", nota)"
      ],
      "metadata": {
        "id": "rqRWfWkaZXzS"
      },
      "execution_count": null,
      "outputs": []
    },
    {
      "cell_type": "markdown",
      "source": [
        "b) Supondo que a população de um país A seja da ordem de 80000 habitantes\n",
        "com uma taxa anual de crescimento de 3% e que a população de B seja\n",
        "200000 habitantes com uma taxa de crescimento de 1.5%. Faça um\n",
        "programa que calcule e escreva o número de anos necessários para que a\n",
        "população do país A ultrapasse ou iguale a população do país B, mantidas\n",
        "as taxas de crescimento.\n"
      ],
      "metadata": {
        "id": "Je6ouQz2WFqK"
      }
    },
    {
      "cell_type": "code",
      "source": [
        "a = 80000\n",
        "b = 200000\n",
        "cont = 0\n",
        "\n",
        "while a < b:\n",
        "  a = a * 1.03\n",
        "  b = b * 1.015\n",
        "  cont = cont + 1\n",
        "\n",
        "print(\"Foram necessários\", cont, \"anos para a população do país A se igualar a do país B.\")"
      ],
      "metadata": {
        "id": "910IQBGRZYIO"
      },
      "execution_count": null,
      "outputs": []
    },
    {
      "cell_type": "markdown",
      "source": [
        "c) Desenvolva um gerador de tabuada, capaz de gerar a tabuada de qualquer\n",
        "número inteiro entre 1 a 10. O usuário deve informar de qual numero ele\n",
        "deseja ver a tabuada"
      ],
      "metadata": {
        "id": "lvdc1nCFWFwS"
      }
    },
    {
      "cell_type": "code",
      "source": [
        "vec = [1, 2, 3, 4, 5, 6, 7, 8, 9, 10]\n",
        "\n",
        "numero = int(input(\"Digite um número \"))\n",
        "\n",
        "print(\"A tabuada do\", numero, \"é:\")\n",
        "\n",
        "for i in range(len(vec)):\n",
        "  print(numero, \"*\", vec[i] ,\"=\", numero * vec[i])"
      ],
      "metadata": {
        "id": "1vlDYqEYZYfq"
      },
      "execution_count": null,
      "outputs": []
    },
    {
      "cell_type": "markdown",
      "source": [
        "d) Faça um programa que calcule o fatorial de um número inteiro fornecido pelo\n",
        "usuário. Ex.: 5!=5.4.3.2.1=120\n"
      ],
      "metadata": {
        "id": "OIdBUOIWWF4I"
      }
    },
    {
      "cell_type": "code",
      "source": [
        "numero = int(input(\"Digite um numero natural positivo: \"))\n",
        "\n",
        "produto = 1\n",
        "\n",
        "while numero > 1:\n",
        "    produto = produto * numero\n",
        "    numero = numero - 1\n",
        "\n",
        "print(produto)"
      ],
      "metadata": {
        "id": "tetUrffaZY3N"
      },
      "execution_count": null,
      "outputs": []
    },
    {
      "cell_type": "markdown",
      "source": [
        "**4) Funções**"
      ],
      "metadata": {
        "id": "IqtnAPS7WLk0"
      }
    },
    {
      "cell_type": "markdown",
      "source": [
        "a) Transforme os exercícios 2 e 3 em funções"
      ],
      "metadata": {
        "id": "R4I1j7TbWL2O"
      }
    },
    {
      "cell_type": "markdown",
      "source": [
        "2)a)"
      ],
      "metadata": {
        "id": "ae02PYr1c1oo"
      }
    },
    {
      "cell_type": "code",
      "source": [
        "n1 = float(input(\"Digite sua nota da p1: \"))\n",
        "n2 = float(input(\"Digite sua nota da p2: \"))\n",
        "\n",
        "def calcula_media(n1, n2):\n",
        "  media = (n1 + n2) / 2\n",
        "  return media\n",
        "\n",
        "calcula_media(n1, n2)\n",
        "\n",
        "if media == 10:\n",
        "  print(\"Aprovado com Distinção\")\n",
        "elif media < 7:\n",
        "  print(\"Reprovado\")\n",
        "else:\n",
        "  print(\"Aprovado\")"
      ],
      "metadata": {
        "id": "lYtaGMZ6c16a"
      },
      "execution_count": null,
      "outputs": []
    },
    {
      "cell_type": "markdown",
      "source": [
        "2)b)"
      ],
      "metadata": {
        "id": "wSQ5o8xbc76I"
      }
    },
    {
      "cell_type": "code",
      "source": [
        "n1 = float(input(\"Digite um número: \"))\n",
        "n2 = float(input(\"Digite um número: \"))\n",
        "n3 = float(input(\"Digite um número: \"))\n",
        "\n",
        "def ordena(n1, n2, n3):\n",
        "  global lista\n",
        "  lista = [n1, n2, n3]\n",
        "  lista.sort()\n",
        "  lista.reverse()\n",
        "\n",
        "  print(lista)\n",
        "\n",
        "ordena(n1, n2, n3)"
      ],
      "metadata": {
        "id": "eAGDbYdWc3X8"
      },
      "execution_count": null,
      "outputs": []
    },
    {
      "cell_type": "markdown",
      "source": [
        "2)c)"
      ],
      "metadata": {
        "id": "SR3d6uyNc3lQ"
      }
    },
    {
      "cell_type": "code",
      "source": [
        "def raizes(a, b, c):\n",
        "  delta = b ** 2 - 4 * a * c\n",
        "  x1 = (-b + math.sqrt(delta))/ (2*a)\n",
        "  x2 = (-b - math.sqrt(delta))/ (2*a)\n",
        "  return x1, x2, delta\n",
        "\n",
        "a = float(input(\"Digite o valor de a: \"))\n",
        "if a == 0:\n",
        "  print(\"A equação não é do segundo grau.\")\n",
        "else:\n",
        "  b = float(input(\"Digite o valor de b: \"))\n",
        "  c = float(input(\"Digite o valor de c: \"))\n",
        "\n",
        "  import math\n",
        "\n",
        "  raizes(a, b, c)\n",
        "\n",
        "  if delta == 0:\n",
        "      print(\"A equação possui apenas uma raíz,\", round(x1,2))\n",
        "  else:\n",
        "      if delta < 0:\n",
        "          print(\"A equação não possui raízes reais\")\n",
        "      else:\n",
        "          print(\"A equação possui duas raízes reais,\", round(x1,2), \"e\", round(x2,2))"
      ],
      "metadata": {
        "id": "BgnmcKkJc3ti"
      },
      "execution_count": null,
      "outputs": []
    },
    {
      "cell_type": "markdown",
      "source": [
        "3)a)"
      ],
      "metadata": {
        "id": "3GlmsMFRoD5K"
      }
    },
    {
      "cell_type": "code",
      "source": [
        "nota = float(input(\"Digite sua nota: \"))\n",
        "\n",
        "def verifica(nota):\n",
        "  if nota >= 0 and nota <= 10:\n",
        "    print(\"Ótimo, sua nota é\", nota)\n",
        "  else:\n",
        "    while nota < 0 or nota > 10:\n",
        "      print(\"Valor inválido. Digite novamente.\")\n",
        "      nota = float(input(\"Digite sua nota: \"))\n",
        "    print(\"Ótimo, sua nota é\", nota)\n",
        "\n",
        "verifica(nota)"
      ],
      "metadata": {
        "id": "BfYxUY_1oEQf",
        "outputId": "6c23de85-3473-4148-d5b8-1422f842e1ef",
        "colab": {
          "base_uri": "https://localhost:8080/"
        }
      },
      "execution_count": null,
      "outputs": [
        {
          "output_type": "stream",
          "name": "stdout",
          "text": [
            "Digite sua nota: 5\n",
            "Ótimo, sua nota é 5.0\n"
          ]
        }
      ]
    },
    {
      "cell_type": "markdown",
      "source": [
        "3)b)"
      ],
      "metadata": {
        "id": "lbl2I4OidBG8"
      }
    },
    {
      "cell_type": "code",
      "source": [
        "a = 80000\n",
        "b = 200000\n",
        "cont = 0\n",
        "\n",
        "def iguala(a, b):\n",
        "  global cont\n",
        "  while a < b:\n",
        "    a = a * 1.03\n",
        "    b = b * 1.015\n",
        "    cont = cont + 1\n",
        "\n",
        "iguala(a, b)\n",
        "\n",
        "print(\"Foram necessários\", cont, \"anos para a população do país A se igualar a do país B.\")"
      ],
      "metadata": {
        "id": "9IBr48ZTdBOm"
      },
      "execution_count": null,
      "outputs": []
    },
    {
      "cell_type": "markdown",
      "source": [
        "3)c)"
      ],
      "metadata": {
        "id": "V9FoBkHCdBVq"
      }
    },
    {
      "cell_type": "code",
      "source": [
        "numero = int(input(\"Digite um número \"))\n",
        "\n",
        "def printa_tabuada(numero):\n",
        "  vec = [1, 2, 3, 4, 5, 6, 7, 8, 9, 10]\n",
        "  print(\"A tabuada do\", numero, \"é:\")\n",
        "\n",
        "  for i in range(len(vec)):\n",
        "    print(numero, \"*\", vec[i] ,\"=\", numero * vec[i])\n",
        "\n",
        "printa_tabuada(numero)"
      ],
      "metadata": {
        "id": "FQNRpfdvdBcy"
      },
      "execution_count": null,
      "outputs": []
    },
    {
      "cell_type": "markdown",
      "source": [
        "3)d)"
      ],
      "metadata": {
        "id": "27BdPuUDdBiz"
      }
    },
    {
      "cell_type": "code",
      "source": [
        "numero = int(input(\"Digite um numero natural positivo: \"))\n",
        "\n",
        "def fat(numero):\n",
        "  produto = 1\n",
        "\n",
        "  while numero > 1:\n",
        "      produto = produto * numero\n",
        "      numero = numero - 1\n",
        "\n",
        "  print(produto)\n",
        "\n",
        "fat(numero)"
      ],
      "metadata": {
        "id": "OVoIFSocdBqG"
      },
      "execution_count": null,
      "outputs": []
    }
  ]
}