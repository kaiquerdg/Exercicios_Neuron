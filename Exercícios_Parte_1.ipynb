{
  "nbformat": 4,
  "nbformat_minor": 0,
  "metadata": {
    "colab": {
      "provenance": []
    },
    "kernelspec": {
      "name": "python3",
      "display_name": "Python 3"
    },
    "language_info": {
      "name": "python"
    }
  },
  "cells": [
    {
      "cell_type": "markdown",
      "source": [
        "#Exercícios - Parte 1"
      ],
      "metadata": {
        "id": "CfKD6qVLzj0l"
      }
    },
    {
      "cell_type": "markdown",
      "source": [
        "01) Faça um programa que leia um número inteiro e informe se ele é par\n",
        "ou ímpar."
      ],
      "metadata": {
        "id": "G3TCEYcNzyJD"
      }
    },
    {
      "cell_type": "code",
      "source": [
        "inteiro = int(input(\"Digite um numero inteiro:\"))\n",
        "\n",
        "div = inteiro % 2\n",
        "\n",
        "if div == 0:\n",
        "    print(\"par\")\n",
        "else:\n",
        "    print(\"impar\")"
      ],
      "metadata": {
        "id": "U26JuvNXznuj"
      },
      "execution_count": null,
      "outputs": []
    },
    {
      "cell_type": "markdown",
      "source": [
        "02) Escreva um programa para aprovar o empréstimo bancário para a\n",
        "compra de uma casa. Pergunte o valor da casa, o salário do comprador e\n",
        "em quantos anos ele vai pagar. A prestação mensal não pode exceder 20%\n",
        "do salário ou então o empréstimo será negado"
      ],
      "metadata": {
        "id": "MWcIJgvez237"
      }
    },
    {
      "cell_type": "code",
      "source": [
        "casa = float(input(\"Digite o valor da casa:\"))\n",
        "salario = float(input(\"Digite seu salário:\"))\n",
        "anos = int(input(\"Digite em quantos anos você vai pagar o empréstimo:\"))\n",
        "\n",
        "prestacao = casa / (anos * 12)\n",
        "\n",
        "if prestacao <= 0.20 * salario:\n",
        "  print(\"O empréstimo será aprovado!\")\n",
        "else:\n",
        "  print(\"O empréstimo foi negado.\")"
      ],
      "metadata": {
        "id": "nv2AQTWp1QD3"
      },
      "execution_count": null,
      "outputs": []
    },
    {
      "cell_type": "markdown",
      "source": [
        "03) Crie um programa que leia números inteiros pelo teclado. O programa\n",
        "só vai parar quando o usuário digitar o valor 0, que é a condição de parada.\n",
        "No final, mostre quantos números foram digitados e qual foi a soma entre\n",
        "eles."
      ],
      "metadata": {
        "id": "luL-IeCi0CAA"
      }
    },
    {
      "cell_type": "code",
      "source": [
        "num = int(input(\"Digite um número inteiro:\"))\n",
        "soma = 0\n",
        "cont = 1\n",
        "while num != 0:\n",
        "  soma += num\n",
        "  cont = cont + 1\n",
        "  num = int(input(\"Digite um número inteiro:\"))\n",
        "print(\"A soma é:\", soma)\n",
        "print(\"Números digitados:\", cont)]"
      ],
      "metadata": {
        "id": "uqAGjpMC1Qi2"
      },
      "execution_count": null,
      "outputs": []
    },
    {
      "cell_type": "markdown",
      "source": [
        "04) Crie um programa que receba um número e mostre a tabuada do\n",
        "número ."
      ],
      "metadata": {
        "id": "DkTEDP9c0DZb"
      }
    },
    {
      "cell_type": "code",
      "source": [
        "vec = [0, 1, 2, 3, 4, 5, 6, 7, 8, 9, 10]\n",
        "\n",
        "numero = int(input(\"Digite um número\"))\n",
        "\n",
        "print(\"A tabuada do\", numero, \"é:\")\n",
        "\n",
        "for i in range(len(vec)):\n",
        "  print(numero, \"*\", vec[i] ,\"=\", numero * vec[i])"
      ],
      "metadata": {
        "id": "2mEljY3W1RTf"
      },
      "execution_count": null,
      "outputs": []
    },
    {
      "cell_type": "markdown",
      "source": [
        "05) O computador vai \"pensar\" em um número entre 0 e 10 e o jogador vai\n",
        "tentar adivinhar até acertar, mostre no final quantos palpites foram\n",
        "necessários para vencer."
      ],
      "metadata": {
        "id": "Qy2FJUZQ0DiL"
      }
    },
    {
      "cell_type": "code",
      "source": [
        "from random import randrange\n",
        "\n",
        "aleat = randrange(0 , 10)\n",
        "\n",
        "jogador = int(input(\"Adivinhe o número inteiro que o computador pensou:\"))\n",
        "cont = 1\n",
        "\n",
        "while jogador != aleat:\n",
        "  jogador = int(input(\"Adivinhe o número inteiro que o computador pensou:\"))\n",
        "  cont += 1\n",
        "print(\"Você acertou em\", cont, \"tentativas!\")"
      ],
      "metadata": {
        "id": "IeNN3jbi1R8v"
      },
      "execution_count": null,
      "outputs": []
    },
    {
      "cell_type": "markdown",
      "source": [
        "06) Desenvolva um programa que leia seis números inteiros e mostre a\n",
        "soma apenas daqueles que forem pares. Se o valor digitado for ímpar,\n",
        "desconsidere-o.\n"
      ],
      "metadata": {
        "id": "RAgwkhCl0Dp6"
      }
    },
    {
      "cell_type": "code",
      "source": [
        "n1 = int(input(\"Digite o número 1:\"))\n",
        "n2 = int(input(\"Digite o número 2:\"))\n",
        "n3 = int(input(\"Digite o número 3:\"))\n",
        "n4 = int(input(\"Digite o número 4:\"))\n",
        "n5 = int(input(\"Digite o número 5:\"))\n",
        "n6 = int(input(\"Digite o número 6:\"))\n",
        "\n",
        "numeros = [n1, n2, n3, n4, n5, n6]\n",
        "soma = 0\n",
        "\n",
        "for i in range(len(numeros)):\n",
        "  if (numeros[i] % 2) == 0:\n",
        "      soma += numeros[i]\n",
        "print(\"A soma é:\", soma)"
      ],
      "metadata": {
        "id": "rEU4SCRy1SnO"
      },
      "execution_count": null,
      "outputs": []
    },
    {
      "cell_type": "markdown",
      "source": [
        "07) Crie um programa que simule o funcionamento de um caixa\n",
        "eletrônico. No início, pergunte ao usuário qual será o valor a ser sacado\n",
        "(número inteiro) e o programa vai informar quantas cédulas de cada valor\n",
        "serão entregues.\n",
        "OBS: considere que o caixa possui cédulas de R\\$50, R\\$20, R\\$10 e R\\$1"
      ],
      "metadata": {
        "id": "wJsBC2DN0Dxa"
      }
    },
    {
      "cell_type": "code",
      "source": [
        "valor = int(input(\"Digite o valor a ser sacado:\"))\n",
        "\n",
        "cinquenta = valor // 50\n",
        "resto = valor % 50\n",
        "\n",
        "vinte = resto // 20\n",
        "resto = resto % 20\n",
        "\n",
        "dez = resto // 10\n",
        "resto = resto % 10\n",
        "\n",
        "um = resto\n",
        "\n",
        "print(\"Você receberá\", cinquenta, \"notas de R$50,\", vinte, \"notas de R$20,\", dez, \"notas de R$10 e\", um, \"notas de R$1.\" )"
      ],
      "metadata": {
        "id": "-UfQtcd31TDe"
      },
      "execution_count": null,
      "outputs": []
    }
  ]
}